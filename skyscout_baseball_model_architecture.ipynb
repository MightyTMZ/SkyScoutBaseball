{
  "nbformat": 4,
  "nbformat_minor": 0,
  "metadata": {
    "colab": {
      "provenance": []
    },
    "kernelspec": {
      "name": "python3",
      "display_name": "Python 3"
    },
    "language_info": {
      "name": "python"
    }
  },
  "cells": [
    {
      "cell_type": "markdown",
      "source": [
        "<h1 style=\"font-weight: bold;\">Introduction</h1>\n",
        "This notebook demonstrates the development of a Recurrent Neural Network (RNN) model to recognize actions and events in baseball using TensorFlow and Keras. The goal is to detect key elements such as players, the ball, and field zones, and to recognize sequences of actions and events during the game.\n",
        "*italicized text*\n",
        "\n"
      ],
      "metadata": {
        "id": "55ZZyNcIilCM"
      }
    },
    {
      "cell_type": "code",
      "source": [
        "import numpy as np\n",
        "import tensorflow as tf\n",
        "from tensorflow.keras.models import Sequential\n",
        "from tensorflow.keras.layers import Dense, SimpleRNN, Dropout\n",
        "from tensorflow.keras.utils import to_categorical"
      ],
      "metadata": {
        "id": "0toI45mfi4aZ"
      },
      "execution_count": null,
      "outputs": []
    },
    {
      "cell_type": "markdown",
      "source": [
        "<h1>Data Preparation</h1>\n",
        "Images of baseball fields and annotated with these classes:\n",
        "\n",
        "<h2>Defensive players</h2>\n",
        "    <ul>\n",
        "        <li>1st baseman</li>\n",
        "        <li>2nd baseman</li>\n",
        "        <li>shortstop</li>\n",
        "        <li>3rd baseman</li>\n",
        "        <li>right fielder</li>\n",
        "        <li>center fielder</li>\n",
        "        <li>left fielder</li>\n",
        "        <li>pitcher</li>\n",
        "        <li>catcher</li>\n",
        "    </ul>\n",
        "    <br/>\n",
        "    <h2>Offensive players</h2>\n",
        "    <ul>\n",
        "        <li>r1 (runner on 1st)</li>\n",
        "        <li>r2 (runner on 2nd)</li>\n",
        "        <li>r3 (runner on 3rd)</li>\n",
        "        <li>batter</li>\n",
        "    </ul>\n",
        "    <br/>\n",
        "    <h2>Field zones</h2>\n",
        "    <ul>\n",
        "        <li>Pitcher's mound</li>\n",
        "        <li>Home plate</li>\n",
        "        <li>1st base</li>\n",
        "        <li>2nd base</li>\n",
        "        <li>3rd base</li>\n",
        "        <li>right field</li>\n",
        "        <li>center field</li>\n",
        "        <li>left field</li>\n",
        "    </ul>\n",
        "\n"
      ],
      "metadata": {
        "id": "pkTf7k2Ki9xY"
      }
    },
    {
      "cell_type": "code",
      "source": [],
      "metadata": {
        "id": "xh5cr-9yqFxv"
      },
      "execution_count": null,
      "outputs": []
    }
  ]
}